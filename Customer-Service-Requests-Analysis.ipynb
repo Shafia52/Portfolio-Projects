{
 "cells": [
  {
   "cell_type": "markdown",
   "metadata": {
    "papermill": {
     "duration": 0.037838,
     "end_time": "2020-09-16T20:27:01.260088",
     "exception": false,
     "start_time": "2020-09-16T20:27:01.222250",
     "status": "completed"
    },
    "tags": []
   },
   "source": [
    "<h1 style=\"color:red\"><center>Customer Service Requests Analysis</h1>"
   ]
  },
  {
   "cell_type": "markdown",
   "metadata": {
    "papermill": {
     "duration": 0.036437,
     "end_time": "2020-09-16T20:27:01.334323",
     "exception": false,
     "start_time": "2020-09-16T20:27:01.297886",
     "status": "completed"
    },
    "tags": []
   },
   "source": [
    "#### Background of Problem Statement :\n",
    "\n",
    "NYC 311's mission is to provide the public with quick and easy access to all New York City government services and information while offering the best customer service. Each day, NYC311 receives thousands of requests related to several hundred types of non-emergency services, including noise complaints, plumbing issues, and illegally parked cars. These requests are received by NYC311 and forwarded to the relevant agencies such as the police, buildings, or transportation. The agency responds to the request, addresses it, and then closes it.\n",
    "\n",
    "#### Problem Objective :\n",
    "\n",
    "Perform a service request data analysis of New York City 311 calls. You will focus on the data wrangling techniques to understand the pattern in the data and also visualize the major complaint types.\n",
    "\n",
    "#### Domain: \n",
    "###### Customer Service\n",
    "\n",
    "\n",
    "#### Tasks Performed:\n",
    "\n",
    "<ul>\n",
    "<li>Import a 311 NYC service request.</li>\n",
    "<li>Read or convert the columns ‘Created Date’ and Closed Date’ to datetime datatype and create a new column ‘Request_Closing_Time’ as the time elapsed between request creation and request closing.</li>\n",
    "<li>Provide major insights/patterns that you can offer in a visual format (graphs or tables); at least 4 major conclusions that you can come up with after generic data mining.</li>\n",
    "<li>Order the complaint types based on the average ‘Request_Closing_Time’, grouping them for different locations.</li>\n",
    "    <li>Perform a statistical tests.</li>\n",
    "</ul>\n",
    "\n",
    "Please note: For the below statements you need to state the Null and Alternate and then provide a statistical test to accept or reject the Null Hypothesis along with the corresponding ‘p-value’.\n",
    "\n",
    "<ul>\n",
    "    <li>Whether the average response time across complaint types is similar or not (overall)</li>\n",
    "<li>Are the type of complaint or service requested and location related?</li>\n",
    "    </ul>\n",
    "\n",
    "Whether the average response time across complaint types is similar or not (overall)\n",
    "Are the type of complaint or service requested and location related?"
   ]
  },
  {
   "cell_type": "markdown",
   "metadata": {
    "papermill": {
     "duration": 0.035671,
     "end_time": "2020-09-16T20:27:01.405853",
     "exception": false,
     "start_time": "2020-09-16T20:27:01.370182",
     "status": "completed"
    },
    "tags": []
   },
   "source": [
    "### Importing the Library"
   ]
  },
  {
   "cell_type": "code",
   "execution_count": 1,
   "metadata": {
    "execution": {
     "iopub.execute_input": "2020-09-16T20:27:01.495864Z",
     "iopub.status.busy": "2020-09-16T20:27:01.494969Z",
     "iopub.status.idle": "2020-09-16T20:27:03.485589Z",
     "shell.execute_reply": "2020-09-16T20:27:03.484864Z"
    },
    "papermill": {
     "duration": 2.043475,
     "end_time": "2020-09-16T20:27:03.485749",
     "exception": false,
     "start_time": "2020-09-16T20:27:01.442274",
     "status": "completed"
    },
    "tags": []
   },
   "outputs": [],
   "source": [
    "import numpy as np\n",
    "import pandas as pd\n",
    "\n",
    "import matplotlib.pyplot as plt\n",
    "import seaborn as sns\n",
    "sns.set()\n",
    "\n",
    "import warnings\n",
    "warnings.filterwarnings(\"ignore\")\n",
    "\n",
    "from scipy import stats\n",
    "from scipy.stats import chi2_contingency \n",
    "\n",
    "import statsmodels.api as sm\n",
    "from statsmodels.formula.api import ols"
   ]
  },
  {
   "cell_type": "markdown",
   "metadata": {
    "papermill": {
     "duration": 0.035892,
     "end_time": "2020-09-16T20:27:03.559209",
     "exception": false,
     "start_time": "2020-09-16T20:27:03.523317",
     "status": "completed"
    },
    "tags": []
   },
   "source": [
    "### Loading the Data"
   ]
  },
  {
   "cell_type": "code",
   "execution_count": 2,
   "metadata": {
    "execution": {
     "iopub.execute_input": "2020-09-16T20:27:03.641185Z",
     "iopub.status.busy": "2020-09-16T20:27:03.640252Z",
     "iopub.status.idle": "2020-09-16T20:27:09.270125Z",
     "shell.execute_reply": "2020-09-16T20:27:09.270731Z"
    },
    "papermill": {
     "duration": 5.675407,
     "end_time": "2020-09-16T20:27:09.270885",
     "exception": false,
     "start_time": "2020-09-16T20:27:03.595478",
     "status": "completed"
    },
    "tags": []
   },
   "outputs": [
    {
     "data": {
      "text/html": [
       "<div>\n",
       "<style scoped>\n",
       "    .dataframe tbody tr th:only-of-type {\n",
       "        vertical-align: middle;\n",
       "    }\n",
       "\n",
       "    .dataframe tbody tr th {\n",
       "        vertical-align: top;\n",
       "    }\n",
       "\n",
       "    .dataframe thead th {\n",
       "        text-align: right;\n",
       "    }\n",
       "</style>\n",
       "<table border=\"1\" class=\"dataframe\">\n",
       "  <thead>\n",
       "    <tr style=\"text-align: right;\">\n",
       "      <th></th>\n",
       "      <th>Unique Key</th>\n",
       "      <th>Created Date</th>\n",
       "      <th>Closed Date</th>\n",
       "      <th>Agency</th>\n",
       "      <th>Agency Name</th>\n",
       "      <th>Complaint Type</th>\n",
       "      <th>Descriptor</th>\n",
       "      <th>Location Type</th>\n",
       "      <th>Incident Zip</th>\n",
       "      <th>Incident Address</th>\n",
       "      <th>...</th>\n",
       "      <th>Bridge Highway Name</th>\n",
       "      <th>Bridge Highway Direction</th>\n",
       "      <th>Road Ramp</th>\n",
       "      <th>Bridge Highway Segment</th>\n",
       "      <th>Garage Lot Name</th>\n",
       "      <th>Ferry Direction</th>\n",
       "      <th>Ferry Terminal Name</th>\n",
       "      <th>Latitude</th>\n",
       "      <th>Longitude</th>\n",
       "      <th>Location</th>\n",
       "    </tr>\n",
       "  </thead>\n",
       "  <tbody>\n",
       "    <tr>\n",
       "      <th>0</th>\n",
       "      <td>32310363</td>\n",
       "      <td>12/31/2015 11:59:45 PM</td>\n",
       "      <td>01/01/2016 12:55:15 AM</td>\n",
       "      <td>NYPD</td>\n",
       "      <td>New York City Police Department</td>\n",
       "      <td>Noise - Street/Sidewalk</td>\n",
       "      <td>Loud Music/Party</td>\n",
       "      <td>Street/Sidewalk</td>\n",
       "      <td>10034.0</td>\n",
       "      <td>71 VERMILYEA AVENUE</td>\n",
       "      <td>...</td>\n",
       "      <td>NaN</td>\n",
       "      <td>NaN</td>\n",
       "      <td>NaN</td>\n",
       "      <td>NaN</td>\n",
       "      <td>NaN</td>\n",
       "      <td>NaN</td>\n",
       "      <td>NaN</td>\n",
       "      <td>40.865682</td>\n",
       "      <td>-73.923501</td>\n",
       "      <td>(40.86568153633767, -73.92350095571744)</td>\n",
       "    </tr>\n",
       "    <tr>\n",
       "      <th>1</th>\n",
       "      <td>32309934</td>\n",
       "      <td>12/31/2015 11:59:44 PM</td>\n",
       "      <td>01/01/2016 01:26:57 AM</td>\n",
       "      <td>NYPD</td>\n",
       "      <td>New York City Police Department</td>\n",
       "      <td>Blocked Driveway</td>\n",
       "      <td>No Access</td>\n",
       "      <td>Street/Sidewalk</td>\n",
       "      <td>11105.0</td>\n",
       "      <td>27-07 23 AVENUE</td>\n",
       "      <td>...</td>\n",
       "      <td>NaN</td>\n",
       "      <td>NaN</td>\n",
       "      <td>NaN</td>\n",
       "      <td>NaN</td>\n",
       "      <td>NaN</td>\n",
       "      <td>NaN</td>\n",
       "      <td>NaN</td>\n",
       "      <td>40.775945</td>\n",
       "      <td>-73.915094</td>\n",
       "      <td>(40.775945312321085, -73.91509393898605)</td>\n",
       "    </tr>\n",
       "    <tr>\n",
       "      <th>2</th>\n",
       "      <td>32309159</td>\n",
       "      <td>12/31/2015 11:59:29 PM</td>\n",
       "      <td>01/01/2016 04:51:03 AM</td>\n",
       "      <td>NYPD</td>\n",
       "      <td>New York City Police Department</td>\n",
       "      <td>Blocked Driveway</td>\n",
       "      <td>No Access</td>\n",
       "      <td>Street/Sidewalk</td>\n",
       "      <td>10458.0</td>\n",
       "      <td>2897 VALENTINE AVENUE</td>\n",
       "      <td>...</td>\n",
       "      <td>NaN</td>\n",
       "      <td>NaN</td>\n",
       "      <td>NaN</td>\n",
       "      <td>NaN</td>\n",
       "      <td>NaN</td>\n",
       "      <td>NaN</td>\n",
       "      <td>NaN</td>\n",
       "      <td>40.870325</td>\n",
       "      <td>-73.888525</td>\n",
       "      <td>(40.870324522111424, -73.88852464418646)</td>\n",
       "    </tr>\n",
       "    <tr>\n",
       "      <th>3</th>\n",
       "      <td>32305098</td>\n",
       "      <td>12/31/2015 11:57:46 PM</td>\n",
       "      <td>01/01/2016 07:43:13 AM</td>\n",
       "      <td>NYPD</td>\n",
       "      <td>New York City Police Department</td>\n",
       "      <td>Illegal Parking</td>\n",
       "      <td>Commercial Overnight Parking</td>\n",
       "      <td>Street/Sidewalk</td>\n",
       "      <td>10461.0</td>\n",
       "      <td>2940 BAISLEY AVENUE</td>\n",
       "      <td>...</td>\n",
       "      <td>NaN</td>\n",
       "      <td>NaN</td>\n",
       "      <td>NaN</td>\n",
       "      <td>NaN</td>\n",
       "      <td>NaN</td>\n",
       "      <td>NaN</td>\n",
       "      <td>NaN</td>\n",
       "      <td>40.835994</td>\n",
       "      <td>-73.828379</td>\n",
       "      <td>(40.83599404683083, -73.82837939584206)</td>\n",
       "    </tr>\n",
       "    <tr>\n",
       "      <th>4</th>\n",
       "      <td>32306529</td>\n",
       "      <td>12/31/2015 11:56:58 PM</td>\n",
       "      <td>01/01/2016 03:24:42 AM</td>\n",
       "      <td>NYPD</td>\n",
       "      <td>New York City Police Department</td>\n",
       "      <td>Illegal Parking</td>\n",
       "      <td>Blocked Sidewalk</td>\n",
       "      <td>Street/Sidewalk</td>\n",
       "      <td>11373.0</td>\n",
       "      <td>87-14 57 ROAD</td>\n",
       "      <td>...</td>\n",
       "      <td>NaN</td>\n",
       "      <td>NaN</td>\n",
       "      <td>NaN</td>\n",
       "      <td>NaN</td>\n",
       "      <td>NaN</td>\n",
       "      <td>NaN</td>\n",
       "      <td>NaN</td>\n",
       "      <td>40.733060</td>\n",
       "      <td>-73.874170</td>\n",
       "      <td>(40.733059618956815, -73.87416975810375)</td>\n",
       "    </tr>\n",
       "  </tbody>\n",
       "</table>\n",
       "<p>5 rows × 53 columns</p>\n",
       "</div>"
      ],
      "text/plain": [
       "   Unique Key            Created Date             Closed Date Agency  \\\n",
       "0    32310363  12/31/2015 11:59:45 PM  01/01/2016 12:55:15 AM   NYPD   \n",
       "1    32309934  12/31/2015 11:59:44 PM  01/01/2016 01:26:57 AM   NYPD   \n",
       "2    32309159  12/31/2015 11:59:29 PM  01/01/2016 04:51:03 AM   NYPD   \n",
       "3    32305098  12/31/2015 11:57:46 PM  01/01/2016 07:43:13 AM   NYPD   \n",
       "4    32306529  12/31/2015 11:56:58 PM  01/01/2016 03:24:42 AM   NYPD   \n",
       "\n",
       "                       Agency Name           Complaint Type  \\\n",
       "0  New York City Police Department  Noise - Street/Sidewalk   \n",
       "1  New York City Police Department         Blocked Driveway   \n",
       "2  New York City Police Department         Blocked Driveway   \n",
       "3  New York City Police Department          Illegal Parking   \n",
       "4  New York City Police Department          Illegal Parking   \n",
       "\n",
       "                     Descriptor    Location Type  Incident Zip  \\\n",
       "0              Loud Music/Party  Street/Sidewalk       10034.0   \n",
       "1                     No Access  Street/Sidewalk       11105.0   \n",
       "2                     No Access  Street/Sidewalk       10458.0   \n",
       "3  Commercial Overnight Parking  Street/Sidewalk       10461.0   \n",
       "4              Blocked Sidewalk  Street/Sidewalk       11373.0   \n",
       "\n",
       "        Incident Address  ... Bridge Highway Name Bridge Highway Direction  \\\n",
       "0    71 VERMILYEA AVENUE  ...                 NaN                      NaN   \n",
       "1        27-07 23 AVENUE  ...                 NaN                      NaN   \n",
       "2  2897 VALENTINE AVENUE  ...                 NaN                      NaN   \n",
       "3    2940 BAISLEY AVENUE  ...                 NaN                      NaN   \n",
       "4          87-14 57 ROAD  ...                 NaN                      NaN   \n",
       "\n",
       "  Road Ramp Bridge Highway Segment Garage Lot Name Ferry Direction  \\\n",
       "0       NaN                    NaN             NaN             NaN   \n",
       "1       NaN                    NaN             NaN             NaN   \n",
       "2       NaN                    NaN             NaN             NaN   \n",
       "3       NaN                    NaN             NaN             NaN   \n",
       "4       NaN                    NaN             NaN             NaN   \n",
       "\n",
       "  Ferry Terminal Name   Latitude  Longitude  \\\n",
       "0                 NaN  40.865682 -73.923501   \n",
       "1                 NaN  40.775945 -73.915094   \n",
       "2                 NaN  40.870325 -73.888525   \n",
       "3                 NaN  40.835994 -73.828379   \n",
       "4                 NaN  40.733060 -73.874170   \n",
       "\n",
       "                                   Location  \n",
       "0   (40.86568153633767, -73.92350095571744)  \n",
       "1  (40.775945312321085, -73.91509393898605)  \n",
       "2  (40.870324522111424, -73.88852464418646)  \n",
       "3   (40.83599404683083, -73.82837939584206)  \n",
       "4  (40.733059618956815, -73.87416975810375)  \n",
       "\n",
       "[5 rows x 53 columns]"
      ]
     },
     "execution_count": 2,
     "metadata": {},
     "output_type": "execute_result"
    }
   ],
   "source": [
    "df=pd.read_csv(\"311_Service_Requests_from_2010_to_Present.csv\")\n",
    "df.head()"
   ]
  },
  {
   "cell_type": "markdown",
   "metadata": {
    "papermill": {
     "duration": 0.037161,
     "end_time": "2020-09-16T20:27:09.346128",
     "exception": false,
     "start_time": "2020-09-16T20:27:09.308967",
     "status": "completed"
    },
    "tags": []
   },
   "source": [
    "### Descriptive Analysis"
   ]
  },
  {
   "cell_type": "code",
   "execution_count": 3,
   "metadata": {
    "execution": {
     "iopub.execute_input": "2020-09-16T20:27:09.442769Z",
     "iopub.status.busy": "2020-09-16T20:27:09.441699Z",
     "iopub.status.idle": "2020-09-16T20:27:09.588839Z",
     "shell.execute_reply": "2020-09-16T20:27:09.588043Z"
    },
    "papermill": {
     "duration": 0.205014,
     "end_time": "2020-09-16T20:27:09.588977",
     "exception": false,
     "start_time": "2020-09-16T20:27:09.383963",
     "status": "completed"
    },
    "tags": []
   },
   "outputs": [
    {
     "data": {
      "text/html": [
       "<div>\n",
       "<style scoped>\n",
       "    .dataframe tbody tr th:only-of-type {\n",
       "        vertical-align: middle;\n",
       "    }\n",
       "\n",
       "    .dataframe tbody tr th {\n",
       "        vertical-align: top;\n",
       "    }\n",
       "\n",
       "    .dataframe thead th {\n",
       "        text-align: right;\n",
       "    }\n",
       "</style>\n",
       "<table border=\"1\" class=\"dataframe\">\n",
       "  <thead>\n",
       "    <tr style=\"text-align: right;\">\n",
       "      <th></th>\n",
       "      <th>Unique Key</th>\n",
       "      <th>Incident Zip</th>\n",
       "      <th>X Coordinate (State Plane)</th>\n",
       "      <th>Y Coordinate (State Plane)</th>\n",
       "      <th>School or Citywide Complaint</th>\n",
       "      <th>Vehicle Type</th>\n",
       "      <th>Taxi Company Borough</th>\n",
       "      <th>Taxi Pick Up Location</th>\n",
       "      <th>Garage Lot Name</th>\n",
       "      <th>Latitude</th>\n",
       "      <th>Longitude</th>\n",
       "    </tr>\n",
       "  </thead>\n",
       "  <tbody>\n",
       "    <tr>\n",
       "      <th>count</th>\n",
       "      <td>3.645580e+05</td>\n",
       "      <td>361560.000000</td>\n",
       "      <td>3.605280e+05</td>\n",
       "      <td>360528.000000</td>\n",
       "      <td>0.0</td>\n",
       "      <td>0.0</td>\n",
       "      <td>0.0</td>\n",
       "      <td>0.0</td>\n",
       "      <td>0.0</td>\n",
       "      <td>360528.000000</td>\n",
       "      <td>360528.000000</td>\n",
       "    </tr>\n",
       "    <tr>\n",
       "      <th>mean</th>\n",
       "      <td>3.106595e+07</td>\n",
       "      <td>10858.496659</td>\n",
       "      <td>1.005043e+06</td>\n",
       "      <td>203425.305782</td>\n",
       "      <td>NaN</td>\n",
       "      <td>NaN</td>\n",
       "      <td>NaN</td>\n",
       "      <td>NaN</td>\n",
       "      <td>NaN</td>\n",
       "      <td>40.724980</td>\n",
       "      <td>-73.924946</td>\n",
       "    </tr>\n",
       "    <tr>\n",
       "      <th>std</th>\n",
       "      <td>7.331531e+05</td>\n",
       "      <td>578.263114</td>\n",
       "      <td>2.196362e+04</td>\n",
       "      <td>29842.192857</td>\n",
       "      <td>NaN</td>\n",
       "      <td>NaN</td>\n",
       "      <td>NaN</td>\n",
       "      <td>NaN</td>\n",
       "      <td>NaN</td>\n",
       "      <td>0.081907</td>\n",
       "      <td>0.079213</td>\n",
       "    </tr>\n",
       "    <tr>\n",
       "      <th>min</th>\n",
       "      <td>2.960737e+07</td>\n",
       "      <td>83.000000</td>\n",
       "      <td>9.133570e+05</td>\n",
       "      <td>121185.000000</td>\n",
       "      <td>NaN</td>\n",
       "      <td>NaN</td>\n",
       "      <td>NaN</td>\n",
       "      <td>NaN</td>\n",
       "      <td>NaN</td>\n",
       "      <td>40.499040</td>\n",
       "      <td>-74.254937</td>\n",
       "    </tr>\n",
       "    <tr>\n",
       "      <th>25%</th>\n",
       "      <td>3.049938e+07</td>\n",
       "      <td>10314.000000</td>\n",
       "      <td>9.919460e+05</td>\n",
       "      <td>182945.000000</td>\n",
       "      <td>NaN</td>\n",
       "      <td>NaN</td>\n",
       "      <td>NaN</td>\n",
       "      <td>NaN</td>\n",
       "      <td>NaN</td>\n",
       "      <td>40.668742</td>\n",
       "      <td>-73.972253</td>\n",
       "    </tr>\n",
       "    <tr>\n",
       "      <th>50%</th>\n",
       "      <td>3.108795e+07</td>\n",
       "      <td>11209.000000</td>\n",
       "      <td>1.003470e+06</td>\n",
       "      <td>201023.000000</td>\n",
       "      <td>NaN</td>\n",
       "      <td>NaN</td>\n",
       "      <td>NaN</td>\n",
       "      <td>NaN</td>\n",
       "      <td>NaN</td>\n",
       "      <td>40.718406</td>\n",
       "      <td>-73.930643</td>\n",
       "    </tr>\n",
       "    <tr>\n",
       "      <th>75%</th>\n",
       "      <td>3.167433e+07</td>\n",
       "      <td>11238.000000</td>\n",
       "      <td>1.019134e+06</td>\n",
       "      <td>222790.000000</td>\n",
       "      <td>NaN</td>\n",
       "      <td>NaN</td>\n",
       "      <td>NaN</td>\n",
       "      <td>NaN</td>\n",
       "      <td>NaN</td>\n",
       "      <td>40.778166</td>\n",
       "      <td>-73.874098</td>\n",
       "    </tr>\n",
       "    <tr>\n",
       "      <th>max</th>\n",
       "      <td>3.231065e+07</td>\n",
       "      <td>11697.000000</td>\n",
       "      <td>1.067186e+06</td>\n",
       "      <td>271876.000000</td>\n",
       "      <td>NaN</td>\n",
       "      <td>NaN</td>\n",
       "      <td>NaN</td>\n",
       "      <td>NaN</td>\n",
       "      <td>NaN</td>\n",
       "      <td>40.912869</td>\n",
       "      <td>-73.700715</td>\n",
       "    </tr>\n",
       "  </tbody>\n",
       "</table>\n",
       "</div>"
      ],
      "text/plain": [
       "         Unique Key   Incident Zip  X Coordinate (State Plane)  \\\n",
       "count  3.645580e+05  361560.000000                3.605280e+05   \n",
       "mean   3.106595e+07   10858.496659                1.005043e+06   \n",
       "std    7.331531e+05     578.263114                2.196362e+04   \n",
       "min    2.960737e+07      83.000000                9.133570e+05   \n",
       "25%    3.049938e+07   10314.000000                9.919460e+05   \n",
       "50%    3.108795e+07   11209.000000                1.003470e+06   \n",
       "75%    3.167433e+07   11238.000000                1.019134e+06   \n",
       "max    3.231065e+07   11697.000000                1.067186e+06   \n",
       "\n",
       "       Y Coordinate (State Plane)  School or Citywide Complaint  Vehicle Type  \\\n",
       "count               360528.000000                           0.0           0.0   \n",
       "mean                203425.305782                           NaN           NaN   \n",
       "std                  29842.192857                           NaN           NaN   \n",
       "min                 121185.000000                           NaN           NaN   \n",
       "25%                 182945.000000                           NaN           NaN   \n",
       "50%                 201023.000000                           NaN           NaN   \n",
       "75%                 222790.000000                           NaN           NaN   \n",
       "max                 271876.000000                           NaN           NaN   \n",
       "\n",
       "       Taxi Company Borough  Taxi Pick Up Location  Garage Lot Name  \\\n",
       "count                   0.0                    0.0              0.0   \n",
       "mean                    NaN                    NaN              NaN   \n",
       "std                     NaN                    NaN              NaN   \n",
       "min                     NaN                    NaN              NaN   \n",
       "25%                     NaN                    NaN              NaN   \n",
       "50%                     NaN                    NaN              NaN   \n",
       "75%                     NaN                    NaN              NaN   \n",
       "max                     NaN                    NaN              NaN   \n",
       "\n",
       "            Latitude      Longitude  \n",
       "count  360528.000000  360528.000000  \n",
       "mean       40.724980     -73.924946  \n",
       "std         0.081907       0.079213  \n",
       "min        40.499040     -74.254937  \n",
       "25%        40.668742     -73.972253  \n",
       "50%        40.718406     -73.930643  \n",
       "75%        40.778166     -73.874098  \n",
       "max        40.912869     -73.700715  "
      ]
     },
     "execution_count": 3,
     "metadata": {},
     "output_type": "execute_result"
    }
   ],
   "source": [
    "df.describe()"
   ]
  },
  {
   "cell_type": "code",
   "execution_count": 4,
   "metadata": {
    "execution": {
     "iopub.execute_input": "2020-09-16T20:27:09.680390Z",
     "iopub.status.busy": "2020-09-16T20:27:09.679468Z",
     "iopub.status.idle": "2020-09-16T20:27:09.683947Z",
     "shell.execute_reply": "2020-09-16T20:27:09.683320Z"
    },
    "papermill": {
     "duration": 0.052135,
     "end_time": "2020-09-16T20:27:09.684075",
     "exception": false,
     "start_time": "2020-09-16T20:27:09.631940",
     "status": "completed"
    },
    "tags": []
   },
   "outputs": [
    {
     "data": {
      "text/plain": [
       "(364558, 53)"
      ]
     },
     "execution_count": 4,
     "metadata": {},
     "output_type": "execute_result"
    }
   ],
   "source": [
    "df.shape"
   ]
  },
  {
   "cell_type": "markdown",
   "metadata": {
    "papermill": {
     "duration": 0.038433,
     "end_time": "2020-09-16T20:27:09.761300",
     "exception": false,
     "start_time": "2020-09-16T20:27:09.722867",
     "status": "completed"
    },
    "tags": []
   },
   "source": [
    "<p style=\"color:green\">We see lots of missing value. All the values given in the above does not provides us very clear insights about our data so we can move ahead with Exploratory Data Analysis."
   ]
  },
  {
   "cell_type": "markdown",
   "metadata": {
    "papermill": {
     "duration": 0.038434,
     "end_time": "2020-09-16T20:27:09.838373",
     "exception": false,
     "start_time": "2020-09-16T20:27:09.799939",
     "status": "completed"
    },
    "tags": []
   },
   "source": [
    "### Feature Creation"
   ]
  },
  {
   "cell_type": "code",
   "execution_count": 5,
   "metadata": {
    "execution": {
     "iopub.execute_input": "2020-09-16T20:27:09.960335Z",
     "iopub.status.busy": "2020-09-16T20:27:09.955254Z",
     "iopub.status.idle": "2020-09-16T20:29:05.724079Z",
     "shell.execute_reply": "2020-09-16T20:29:05.722570Z"
    },
    "papermill": {
     "duration": 115.847201,
     "end_time": "2020-09-16T20:29:05.724389",
     "exception": false,
     "start_time": "2020-09-16T20:27:09.877188",
     "status": "completed"
    },
    "tags": []
   },
   "outputs": [],
   "source": [
    "# Converting the data into datetime format\n",
    "df[\"Created Date\"]=pd.to_datetime(df[\"Created Date\"])\n",
    "df[\"Closed Date\"]=pd.to_datetime(df[\"Closed Date\"])"
   ]
  },
  {
   "cell_type": "code",
   "execution_count": 6,
   "metadata": {
    "execution": {
     "iopub.execute_input": "2020-09-16T20:29:05.830387Z",
     "iopub.status.busy": "2020-09-16T20:29:05.829649Z",
     "iopub.status.idle": "2020-09-16T20:29:11.185881Z",
     "shell.execute_reply": "2020-09-16T20:29:11.185087Z"
    },
    "papermill": {
     "duration": 5.406818,
     "end_time": "2020-09-16T20:29:11.186010",
     "exception": false,
     "start_time": "2020-09-16T20:29:05.779192",
     "status": "completed"
    },
    "tags": []
   },
   "outputs": [],
   "source": [
    "#Creating the new column that consist the amount of time taken to resolve the complaint\n",
    "df[\"Request_Closing_Time\"]=(df[\"Closed Date\"]-df[\"Created Date\"])\n",
    "\n",
    "Request_Closing_Time=[]\n",
    "for x in (df[\"Closed Date\"]-df[\"Created Date\"]):\n",
    "    close=x.total_seconds()/60\n",
    "    Request_Closing_Time.append(close)\n",
    "    \n",
    "df[\"Request_Closing_Time\"]=Request_Closing_Time"
   ]
  },
  {
   "cell_type": "markdown",
   "metadata": {
    "papermill": {
     "duration": 0.03928,
     "end_time": "2020-09-16T20:29:11.265812",
     "exception": false,
     "start_time": "2020-09-16T20:29:11.226532",
     "status": "completed"
    },
    "tags": []
   },
   "source": [
    "### Exploratory Data Analysis"
   ]
  },
  {
   "cell_type": "code",
   "execution_count": 7,
   "metadata": {
    "execution": {
     "iopub.execute_input": "2020-09-16T20:29:11.379639Z",
     "iopub.status.busy": "2020-09-16T20:29:11.378842Z",
     "iopub.status.idle": "2020-09-16T20:29:11.389061Z",
     "shell.execute_reply": "2020-09-16T20:29:11.388293Z"
    },
    "papermill": {
     "duration": 0.0832,
     "end_time": "2020-09-16T20:29:11.389181",
     "exception": false,
     "start_time": "2020-09-16T20:29:11.305981",
     "status": "completed"
    },
    "tags": []
   },
   "outputs": [
    {
     "data": {
      "text/plain": [
       "array(['NYPD'], dtype=object)"
      ]
     },
     "execution_count": 7,
     "metadata": {},
     "output_type": "execute_result"
    }
   ],
   "source": [
    "df[\"Agency\"].unique()"
   ]
  },
  {
   "cell_type": "markdown",
   "metadata": {
    "papermill": {
     "duration": 0.040306,
     "end_time": "2020-09-16T20:29:11.470478",
     "exception": false,
     "start_time": "2020-09-16T20:29:11.430172",
     "status": "completed"
    },
    "tags": []
   },
   "source": [
    "<p style=\"color:green\">All of our data belongs to a single agency  NYPD i.e New York City Police Department."
   ]
  },
  {
   "cell_type": "code",
   "execution_count": 8,
   "metadata": {
    "execution": {
     "iopub.execute_input": "2020-09-16T20:29:11.556610Z",
     "iopub.status.busy": "2020-09-16T20:29:11.555851Z",
     "iopub.status.idle": "2020-09-16T20:29:12.303177Z",
     "shell.execute_reply": "2020-09-16T20:29:12.303854Z"
    },
    "papermill": {
     "duration": 0.793323,
     "end_time": "2020-09-16T20:29:12.304017",
     "exception": false,
     "start_time": "2020-09-16T20:29:11.510694",
     "status": "completed"
    },
    "tags": []
   },
   "outputs": [
    {
     "data": {
      "text/plain": [
       "<function matplotlib.pyplot.show(close=None, block=None)>"
      ]
     },
     "execution_count": 8,
     "metadata": {},
     "output_type": "execute_result"
    },
    {
     "data": {
      "image/png": "[encoded data removed]",
      "text/plain": [
       "<Figure size 432x288 with 1 Axes>"
      ]
     },
     "metadata": {},
     "output_type": "display_data"
    }
   ],
   "source": [
    "#Univariate Distribution Plot for Request Closing Time\n",
    "sns.distplot(df[\"Request_Closing_Time\"])\n",
    "plt.show"
   ]
  },
  {
   "cell_type": "code",
   "execution_count": 9,
   "metadata": {
    "execution": {
     "iopub.execute_input": "2020-09-16T20:29:12.395819Z",
     "iopub.status.busy": "2020-09-16T20:29:12.395016Z",
     "iopub.status.idle": "2020-09-16T20:29:12.429927Z",
     "shell.execute_reply": "2020-09-16T20:29:12.430558Z"
    },
    "papermill": {
     "duration": 0.085326,
     "end_time": "2020-09-16T20:29:12.430732",
     "exception": false,
     "start_time": "2020-09-16T20:29:12.345406",
     "status": "completed"
    },
    "tags": []
   },
   "outputs": [
    {
     "name": "stdout",
     "output_type": "stream",
     "text": [
      "Total Number of Concerns :  364558 \n",
      "\n",
      "Percentage of Requests took less than 100 hour to get solved   :  33.63 %\n",
      "Percentage of Requests took less than 1000 hour to get solved :  97.44 %\n"
     ]
    }
   ],
   "source": [
    "print(\"Total Number of Concerns : \",len(df),\"\\n\")\n",
    "print(\"Percentage of Requests took less than 100 hour to get solved   : \",round((len(df)-(df[\"Request_Closing_Time\"]>100).sum())/len(df)*100,2),\"%\")\n",
    "print(\"Percentage of Requests took less than 1000 hour to get solved : \",round((len(df)-(df[\"Request_Closing_Time\"]>1000).sum())/len(df)*100,2),\"%\")"
   ]
  },
  {
   "cell_type": "markdown",
   "metadata": {
    "papermill": {
     "duration": 0.041353,
     "end_time": "2020-09-16T20:29:12.513814",
     "exception": false,
     "start_time": "2020-09-16T20:29:12.472461",
     "status": "completed"
    },
    "tags": []
   },
   "source": [
    "<p style=\"color:green\">From above we can see that the data is heavily skewed. There are lots of outliers. Almost more than 97% of the requests are solved in less than 1000 hours i.e 17 days."
   ]
  },
  {
   "cell_type": "code",
   "execution_count": 10,
   "metadata": {
    "execution": {
     "iopub.execute_input": "2020-09-16T20:29:12.609180Z",
     "iopub.status.busy": "2020-09-16T20:29:12.608414Z",
     "iopub.status.idle": "2020-09-16T20:29:13.171667Z",
     "shell.execute_reply": "2020-09-16T20:29:13.170893Z"
    },
    "papermill": {
     "duration": 0.616338,
     "end_time": "2020-09-16T20:29:13.171791",
     "exception": false,
     "start_time": "2020-09-16T20:29:12.555453",
     "status": "completed"
    },
    "tags": []
   },
   "outputs": [
    {
     "data": {
      "image/png": "[encoded data removed]",
      "text/plain": [
       "<Figure size 432x288 with 1 Axes>"
      ]
     },
     "metadata": {},
     "output_type": "display_data"
    }
   ],
   "source": [
    "#Univariate Distribution Plot for Request Closing Time\n",
    "sns.distplot(df[\"Request_Closing_Time\"])\n",
    "plt.xlim((0,5000))\n",
    "plt.ylim((0,0.0003))\n",
    "plt.show()"
   ]
  },
  {
   "cell_type": "code",
   "execution_count": 11,
   "metadata": {
    "execution": {
     "iopub.execute_input": "2020-09-16T20:29:13.365650Z",
     "iopub.status.busy": "2020-09-16T20:29:13.364480Z",
     "iopub.status.idle": "2020-09-16T20:29:13.738235Z",
     "shell.execute_reply": "2020-09-16T20:29:13.737656Z"
    },
    "papermill": {
     "duration": 0.523033,
     "end_time": "2020-09-16T20:29:13.738360",
     "exception": false,
     "start_time": "2020-09-16T20:29:13.215327",
     "status": "completed"
    },
    "tags": []
   },
   "outputs": [
    {
     "data": {
      "image/png": "[encoded data removed]",
      "text/plain": [
       "<Figure size 1080x720 with 1 Axes>"
      ]
     },
     "metadata": {},
     "output_type": "display_data"
    }
   ],
   "source": [
    "# Count plot to understand the type of the complaint raised\n",
    "df['Complaint Type'].value_counts()[:10].plot(kind='barh',alpha=0.6,figsize=(15,10))\n",
    "plt.show()"
   ]
  },
  {
   "cell_type": "markdown",
   "metadata": {
    "papermill": {
     "duration": 0.044028,
     "end_time": "2020-09-16T20:29:13.826767",
     "exception": false,
     "start_time": "2020-09-16T20:29:13.782739",
     "status": "completed"
    },
    "tags": []
   },
   "source": [
    "<p style=\"color:green\">Almost around 85% of the the requests belongs to transport (Blocked driveway,Illegal Parking, Vehicle Noise, Road Traffic etc )."
   ]
  },
  {
   "cell_type": "code",
   "execution_count": 12,
   "metadata": {
    "execution": {
     "iopub.execute_input": "2020-09-16T20:29:13.945591Z",
     "iopub.status.busy": "2020-09-16T20:29:13.944818Z",
     "iopub.status.idle": "2020-09-16T20:29:23.375052Z",
     "shell.execute_reply": "2020-09-16T20:29:23.375634Z"
    },
    "papermill": {
     "duration": 9.504468,
     "end_time": "2020-09-16T20:29:23.375789",
     "exception": false,
     "start_time": "2020-09-16T20:29:13.871321",
     "status": "completed"
    },
    "tags": []
   },
   "outputs": [
    {
     "data": {
      "image/png": "[encoded data removed]",
      "text/plain": [
       "<Figure size 1080x504 with 1 Axes>"
      ]
     },
     "metadata": {},
     "output_type": "display_data"
    }
   ],
   "source": [
    "#Categorical Scatter Plot to understand which type of complaints are taking more time to get resolved\n",
    "g=sns.catplot(x='Complaint Type', y=\"Request_Closing_Time\",data=df)\n",
    "g.fig.set_figwidth(15)\n",
    "g.fig.set_figheight(7)\n",
    "plt.xticks(rotation=90)\n",
    "plt.ylim((0,5000))\n",
    "plt.show()"
   ]
  },
  {
   "cell_type": "markdown",
   "metadata": {
    "papermill": {
     "duration": 0.047979,
     "end_time": "2020-09-16T20:29:23.472450",
     "exception": false,
     "start_time": "2020-09-16T20:29:23.424471",
     "status": "completed"
    },
    "tags": []
   },
   "source": [
    "<p style=\"color:green\">As we have got above that almost around 85% of the the requests belongs to transport (Blocked driveway,Illegal Parking, Vehicle Noise, Road Traffic etc ). From this plot we can understand that most of these issues have taken more time to get resolved. Government should take measure in incresing awareness and find some measures to reduce traffic problems."
   ]
  },
  {
   "cell_type": "code",
   "execution_count": 13,
   "metadata": {
    "execution": {
     "iopub.execute_input": "2020-09-16T20:29:23.671949Z",
     "iopub.status.busy": "2020-09-16T20:29:23.632880Z",
     "iopub.status.idle": "2020-09-16T20:29:23.891396Z",
     "shell.execute_reply": "2020-09-16T20:29:23.890758Z"
    },
    "papermill": {
     "duration": 0.371082,
     "end_time": "2020-09-16T20:29:23.891563",
     "exception": false,
     "start_time": "2020-09-16T20:29:23.520481",
     "status": "completed"
    },
    "tags": []
   },
   "outputs": [
    {
     "data": {
      "image/png": "[encoded data removed]",
      "text/plain": [
       "<Figure size 1080x504 with 1 Axes>"
      ]
     },
     "metadata": {},
     "output_type": "display_data"
    }
   ],
   "source": [
    "# Count plot to know the status of the requests\n",
    "df['Status'].value_counts().plot(kind='bar',alpha=0.6,figsize=(15,7))\n",
    "plt.show()"
   ]
  },
  {
   "cell_type": "markdown",
   "metadata": {
    "papermill": {
     "duration": 0.048505,
     "end_time": "2020-09-16T20:29:23.994228",
     "exception": false,
     "start_time": "2020-09-16T20:29:23.945723",
     "status": "completed"
    },
    "tags": []
   },
   "source": [
    "<p style=\"color:green\">As of now almost 98% of the cases are closed state."
   ]
  },
  {
   "cell_type": "code",
   "execution_count": 14,
   "metadata": {
    "execution": {
     "iopub.execute_input": "2020-09-16T20:29:24.208125Z",
     "iopub.status.busy": "2020-09-16T20:29:24.199147Z",
     "iopub.status.idle": "2020-09-16T20:29:24.439753Z",
     "shell.execute_reply": "2020-09-16T20:29:24.439140Z"
    },
    "papermill": {
     "duration": 0.395984,
     "end_time": "2020-09-16T20:29:24.439885",
     "exception": false,
     "start_time": "2020-09-16T20:29:24.043901",
     "status": "completed"
    },
    "tags": []
   },
   "outputs": [
    {
     "data": {
      "image/png": "[encoded data removed]",
      "text/plain": [
       "<Figure size 864x504 with 1 Axes>"
      ]
     },
     "metadata": {},
     "output_type": "display_data"
    }
   ],
   "source": [
    "#Count Plot for Coloumn Borough\n",
    "plt.figure(figsize=(12,7))\n",
    "df['Borough'].value_counts().plot(kind='bar',alpha=0.7)\n",
    "plt.show()"
   ]
  },
  {
   "cell_type": "code",
   "execution_count": 15,
   "metadata": {
    "execution": {
     "iopub.execute_input": "2020-09-16T20:29:24.573623Z",
     "iopub.status.busy": "2020-09-16T20:29:24.553517Z",
     "iopub.status.idle": "2020-09-16T20:29:24.944247Z",
     "shell.execute_reply": "2020-09-16T20:29:24.944976Z"
    },
    "papermill": {
     "duration": 0.455025,
     "end_time": "2020-09-16T20:29:24.945154",
     "exception": false,
     "start_time": "2020-09-16T20:29:24.490129",
     "status": "completed"
    },
    "tags": []
   },
   "outputs": [
    {
     "name": "stdout",
     "output_type": "stream",
     "text": [
      "Percentage of Request from  MANHATTAN  Division :  21.25\n",
      "Percentage of Request from  QUEENS  Division :  27.64\n",
      "Percentage of Request from  BRONX  Division :  13.49\n",
      "Percentage of Request from  BROOKLYN  Division :  32.6\n",
      "Percentage of Request from  Unspecified  Division :  0.81\n",
      "Percentage of Request from  STATEN ISLAND  Division :  4.21\n"
     ]
    }
   ],
   "source": [
    "#Percentage of cases in each Borough\n",
    "for x in df[\"Borough\"].unique():\n",
    "    print(\"Percentage of Request from \",x,\" Division : \",round((df[\"Borough\"]==x).sum()/len(df)*100,2))"
   ]
  },
  {
   "cell_type": "code",
   "execution_count": 16,
   "metadata": {
    "execution": {
     "iopub.execute_input": "2020-09-16T20:29:25.102164Z",
     "iopub.status.busy": "2020-09-16T20:29:25.101152Z",
     "iopub.status.idle": "2020-09-16T20:29:25.105355Z",
     "shell.execute_reply": "2020-09-16T20:29:25.105969Z"
    },
    "papermill": {
     "duration": 0.109692,
     "end_time": "2020-09-16T20:29:25.106129",
     "exception": false,
     "start_time": "2020-09-16T20:29:24.996437",
     "status": "completed"
    },
    "tags": []
   },
   "outputs": [
    {
     "data": {
      "text/plain": [
       "array(['Street/Sidewalk', 'Club/Bar/Restaurant', 'Store/Commercial',\n",
       "       'House of Worship', 'Residential Building/House',\n",
       "       'Residential Building', 'Park/Playground', 'Vacant Lot',\n",
       "       'House and Store', 'Highway', 'Commercial', 'Roadway Tunnel',\n",
       "       'Subway Station', 'Parking Lot', 'Bridge', 'Terminal', nan,\n",
       "       'Ferry', 'Park'], dtype=object)"
      ]
     },
     "execution_count": 16,
     "metadata": {},
     "output_type": "execute_result"
    }
   ],
   "source": [
    "#Unique Location Types\n",
    "df[\"Location Type\"].unique()"
   ]
  },
  {
   "cell_type": "code",
   "execution_count": 17,
   "metadata": {
    "execution": {
     "iopub.execute_input": "2020-09-16T20:29:25.275333Z",
     "iopub.status.busy": "2020-09-16T20:29:25.274590Z",
     "iopub.status.idle": "2020-09-16T20:29:25.293758Z",
     "shell.execute_reply": "2020-09-16T20:29:25.293133Z"
    },
    "papermill": {
     "duration": 0.135879,
     "end_time": "2020-09-16T20:29:25.293896",
     "exception": false,
     "start_time": "2020-09-16T20:29:25.158017",
     "status": "completed"
    },
    "tags": []
   },
   "outputs": [
    {
     "data": {
      "text/html": [
       "<div>\n",
       "<style scoped>\n",
       "    .dataframe tbody tr th:only-of-type {\n",
       "        vertical-align: middle;\n",
       "    }\n",
       "\n",
       "    .dataframe tbody tr th {\n",
       "        vertical-align: top;\n",
       "    }\n",
       "\n",
       "    .dataframe thead th {\n",
       "        text-align: right;\n",
       "    }\n",
       "</style>\n",
       "<table border=\"1\" class=\"dataframe\">\n",
       "  <thead>\n",
       "    <tr style=\"text-align: right;\">\n",
       "      <th></th>\n",
       "      <th>Request_Closing_Time</th>\n",
       "    </tr>\n",
       "    <tr>\n",
       "      <th>Location Type</th>\n",
       "      <th></th>\n",
       "    </tr>\n",
       "  </thead>\n",
       "  <tbody>\n",
       "    <tr>\n",
       "      <th>Subway Station</th>\n",
       "      <td>145.120000</td>\n",
       "    </tr>\n",
       "    <tr>\n",
       "      <th>Club/Bar/Restaurant</th>\n",
       "      <td>183.492218</td>\n",
       "    </tr>\n",
       "    <tr>\n",
       "      <th>House of Worship</th>\n",
       "      <td>190.052861</td>\n",
       "    </tr>\n",
       "    <tr>\n",
       "      <th>Store/Commercial</th>\n",
       "      <td>192.928792</td>\n",
       "    </tr>\n",
       "    <tr>\n",
       "      <th>Highway</th>\n",
       "      <td>204.372348</td>\n",
       "    </tr>\n",
       "    <tr>\n",
       "      <th>Park/Playground</th>\n",
       "      <td>206.594724</td>\n",
       "    </tr>\n",
       "    <tr>\n",
       "      <th>Bridge</th>\n",
       "      <td>229.458333</td>\n",
       "    </tr>\n",
       "    <tr>\n",
       "      <th>Street/Sidewalk</th>\n",
       "      <td>261.052945</td>\n",
       "    </tr>\n",
       "    <tr>\n",
       "      <th>Residential Building</th>\n",
       "      <td>267.260350</td>\n",
       "    </tr>\n",
       "    <tr>\n",
       "      <th>Commercial</th>\n",
       "      <td>270.649846</td>\n",
       "    </tr>\n",
       "    <tr>\n",
       "      <th>Roadway Tunnel</th>\n",
       "      <td>283.486047</td>\n",
       "    </tr>\n",
       "    <tr>\n",
       "      <th>House and Store</th>\n",
       "      <td>291.750204</td>\n",
       "    </tr>\n",
       "    <tr>\n",
       "      <th>Parking Lot</th>\n",
       "      <td>296.526747</td>\n",
       "    </tr>\n",
       "    <tr>\n",
       "      <th>Residential Building/House</th>\n",
       "      <td>300.233145</td>\n",
       "    </tr>\n",
       "    <tr>\n",
       "      <th>Vacant Lot</th>\n",
       "      <td>404.561930</td>\n",
       "    </tr>\n",
       "    <tr>\n",
       "      <th>Park</th>\n",
       "      <td>20210.566667</td>\n",
       "    </tr>\n",
       "    <tr>\n",
       "      <th>Ferry</th>\n",
       "      <td>NaN</td>\n",
       "    </tr>\n",
       "    <tr>\n",
       "      <th>Terminal</th>\n",
       "      <td>NaN</td>\n",
       "    </tr>\n",
       "  </tbody>\n",
       "</table>\n",
       "</div>"
      ],
      "text/plain": [
       "                            Request_Closing_Time\n",
       "Location Type                                   \n",
       "Subway Station                        145.120000\n",
       "Club/Bar/Restaurant                   183.492218\n",
       "House of Worship                      190.052861\n",
       "Store/Commercial                      192.928792\n",
       "Highway                               204.372348\n",
       "Park/Playground                       206.594724\n",
       "Bridge                                229.458333\n",
       "Street/Sidewalk                       261.052945\n",
       "Residential Building                  267.260350\n",
       "Commercial                            270.649846\n",
       "Roadway Tunnel                        283.486047\n",
       "House and Store                       291.750204\n",
       "Parking Lot                           296.526747\n",
       "Residential Building/House            300.233145\n",
       "Vacant Lot                            404.561930\n",
       "Park                                20210.566667\n",
       "Ferry                                        NaN\n",
       "Terminal                                     NaN"
      ]
     },
     "execution_count": 17,
     "metadata": {},
     "output_type": "execute_result"
    }
   ],
   "source": [
    "#Request Closing Time for all location Type sorted in ascending Order\n",
    "pd.DataFrame(df.groupby(\"Location Type\")[\"Request_Closing_Time\"].mean()).sort_values(\"Request_Closing_Time\")"
   ]
  },
  {
   "cell_type": "markdown",
   "metadata": {
    "papermill": {
     "duration": 0.052556,
     "end_time": "2020-09-16T20:29:25.399097",
     "exception": false,
     "start_time": "2020-09-16T20:29:25.346541",
     "status": "completed"
    },
    "tags": []
   },
   "source": [
    "<p style-\"color:red\">We see that maximum(mean) time  to resolve the complaint is taken in Park,Vacant Lot and Commercial areas whereas the cases in the Subway Station and Restaurent are resolved in very less time"
   ]
  },
  {
   "cell_type": "code",
   "execution_count": 18,
   "metadata": {
    "execution": {
     "iopub.execute_input": "2020-09-16T20:29:25.567149Z",
     "iopub.status.busy": "2020-09-16T20:29:25.566312Z",
     "iopub.status.idle": "2020-09-16T20:29:25.586875Z",
     "shell.execute_reply": "2020-09-16T20:29:25.587450Z"
    },
    "papermill": {
     "duration": 0.13465,
     "end_time": "2020-09-16T20:29:25.587615",
     "exception": false,
     "start_time": "2020-09-16T20:29:25.452965",
     "status": "completed"
    },
    "tags": []
   },
   "outputs": [
    {
     "data": {
      "text/html": [
       "<div>\n",
       "<style scoped>\n",
       "    .dataframe tbody tr th:only-of-type {\n",
       "        vertical-align: middle;\n",
       "    }\n",
       "\n",
       "    .dataframe tbody tr th {\n",
       "        vertical-align: top;\n",
       "    }\n",
       "\n",
       "    .dataframe thead th {\n",
       "        text-align: right;\n",
       "    }\n",
       "</style>\n",
       "<table border=\"1\" class=\"dataframe\">\n",
       "  <thead>\n",
       "    <tr style=\"text-align: right;\">\n",
       "      <th></th>\n",
       "      <th>Request_Closing_Time</th>\n",
       "    </tr>\n",
       "    <tr>\n",
       "      <th>City</th>\n",
       "      <th></th>\n",
       "    </tr>\n",
       "  </thead>\n",
       "  <tbody>\n",
       "    <tr>\n",
       "      <th>ARVERNE</th>\n",
       "      <td>137.840605</td>\n",
       "    </tr>\n",
       "    <tr>\n",
       "      <th>ROCKAWAY PARK</th>\n",
       "      <td>139.602908</td>\n",
       "    </tr>\n",
       "    <tr>\n",
       "      <th>LITTLE NECK</th>\n",
       "      <td>155.031437</td>\n",
       "    </tr>\n",
       "    <tr>\n",
       "      <th>OAKLAND GARDENS</th>\n",
       "      <td>156.240167</td>\n",
       "    </tr>\n",
       "    <tr>\n",
       "      <th>BAYSIDE</th>\n",
       "      <td>160.062978</td>\n",
       "    </tr>\n",
       "    <tr>\n",
       "      <th>FAR ROCKAWAY</th>\n",
       "      <td>161.193068</td>\n",
       "    </tr>\n",
       "    <tr>\n",
       "      <th>NEW YORK</th>\n",
       "      <td>175.343723</td>\n",
       "    </tr>\n",
       "    <tr>\n",
       "      <th>FLUSHING</th>\n",
       "      <td>177.446478</td>\n",
       "    </tr>\n",
       "    <tr>\n",
       "      <th>FOREST HILLS</th>\n",
       "      <td>184.097636</td>\n",
       "    </tr>\n",
       "    <tr>\n",
       "      <th>WHITESTONE</th>\n",
       "      <td>187.976467</td>\n",
       "    </tr>\n",
       "    <tr>\n",
       "      <th>CORONA</th>\n",
       "      <td>188.984584</td>\n",
       "    </tr>\n",
       "    <tr>\n",
       "      <th>COLLEGE POINT</th>\n",
       "      <td>190.393782</td>\n",
       "    </tr>\n",
       "    <tr>\n",
       "      <th>JACKSON HEIGHTS</th>\n",
       "      <td>190.885368</td>\n",
       "    </tr>\n",
       "    <tr>\n",
       "      <th>ELMHURST</th>\n",
       "      <td>194.108392</td>\n",
       "    </tr>\n",
       "    <tr>\n",
       "      <th>FRESH MEADOWS</th>\n",
       "      <td>200.741045</td>\n",
       "    </tr>\n",
       "    <tr>\n",
       "      <th>REGO PARK</th>\n",
       "      <td>202.462138</td>\n",
       "    </tr>\n",
       "    <tr>\n",
       "      <th>BREEZY POINT</th>\n",
       "      <td>205.197849</td>\n",
       "    </tr>\n",
       "    <tr>\n",
       "      <th>EAST ELMHURST</th>\n",
       "      <td>206.801481</td>\n",
       "    </tr>\n",
       "    <tr>\n",
       "      <th>CENTRAL PARK</th>\n",
       "      <td>206.921364</td>\n",
       "    </tr>\n",
       "    <tr>\n",
       "      <th>STATEN ISLAND</th>\n",
       "      <td>228.038305</td>\n",
       "    </tr>\n",
       "    <tr>\n",
       "      <th>BROOKLYN</th>\n",
       "      <td>236.607935</td>\n",
       "    </tr>\n",
       "    <tr>\n",
       "      <th>Howard Beach</th>\n",
       "      <td>241.750000</td>\n",
       "    </tr>\n",
       "    <tr>\n",
       "      <th>Astoria</th>\n",
       "      <td>242.452302</td>\n",
       "    </tr>\n",
       "    <tr>\n",
       "      <th>Long Island City</th>\n",
       "      <td>245.388922</td>\n",
       "    </tr>\n",
       "    <tr>\n",
       "      <th>ASTORIA</th>\n",
       "      <td>265.236501</td>\n",
       "    </tr>\n",
       "    <tr>\n",
       "      <th>RIDGEWOOD</th>\n",
       "      <td>268.285547</td>\n",
       "    </tr>\n",
       "    <tr>\n",
       "      <th>SAINT ALBANS</th>\n",
       "      <td>271.040767</td>\n",
       "    </tr>\n",
       "    <tr>\n",
       "      <th>East Elmhurst</th>\n",
       "      <td>273.630556</td>\n",
       "    </tr>\n",
       "    <tr>\n",
       "      <th>Woodside</th>\n",
       "      <td>281.455622</td>\n",
       "    </tr>\n",
       "    <tr>\n",
       "      <th>KEW GARDENS</th>\n",
       "      <td>283.319775</td>\n",
       "    </tr>\n",
       "    <tr>\n",
       "      <th>JAMAICA</th>\n",
       "      <td>305.346459</td>\n",
       "    </tr>\n",
       "    <tr>\n",
       "      <th>SOUTH OZONE PARK</th>\n",
       "      <td>308.283046</td>\n",
       "    </tr>\n",
       "    <tr>\n",
       "      <th>SOUTH RICHMOND HILL</th>\n",
       "      <td>318.020470</td>\n",
       "    </tr>\n",
       "    <tr>\n",
       "      <th>WOODHAVEN</th>\n",
       "      <td>321.714469</td>\n",
       "    </tr>\n",
       "    <tr>\n",
       "      <th>RICHMOND HILL</th>\n",
       "      <td>321.749064</td>\n",
       "    </tr>\n",
       "    <tr>\n",
       "      <th>MIDDLE VILLAGE</th>\n",
       "      <td>323.290492</td>\n",
       "    </tr>\n",
       "    <tr>\n",
       "      <th>OZONE PARK</th>\n",
       "      <td>328.309146</td>\n",
       "    </tr>\n",
       "    <tr>\n",
       "      <th>MASPETH</th>\n",
       "      <td>328.997706</td>\n",
       "    </tr>\n",
       "    <tr>\n",
       "      <th>HOLLIS</th>\n",
       "      <td>332.061427</td>\n",
       "    </tr>\n",
       "    <tr>\n",
       "      <th>HOWARD BEACH</th>\n",
       "      <td>346.959615</td>\n",
       "    </tr>\n",
       "    <tr>\n",
       "      <th>BRONX</th>\n",
       "      <td>353.116425</td>\n",
       "    </tr>\n",
       "    <tr>\n",
       "      <th>LONG ISLAND CITY</th>\n",
       "      <td>367.326726</td>\n",
       "    </tr>\n",
       "    <tr>\n",
       "      <th>SUNNYSIDE</th>\n",
       "      <td>380.744297</td>\n",
       "    </tr>\n",
       "    <tr>\n",
       "      <th>WOODSIDE</th>\n",
       "      <td>389.758733</td>\n",
       "    </tr>\n",
       "    <tr>\n",
       "      <th>NEW HYDE PARK</th>\n",
       "      <td>423.396512</td>\n",
       "    </tr>\n",
       "    <tr>\n",
       "      <th>GLEN OAKS</th>\n",
       "      <td>501.653463</td>\n",
       "    </tr>\n",
       "    <tr>\n",
       "      <th>SPRINGFIELD GARDENS</th>\n",
       "      <td>510.113239</td>\n",
       "    </tr>\n",
       "    <tr>\n",
       "      <th>CAMBRIA HEIGHTS</th>\n",
       "      <td>542.883117</td>\n",
       "    </tr>\n",
       "    <tr>\n",
       "      <th>ROSEDALE</th>\n",
       "      <td>569.194745</td>\n",
       "    </tr>\n",
       "    <tr>\n",
       "      <th>BELLEROSE</th>\n",
       "      <td>576.173614</td>\n",
       "    </tr>\n",
       "    <tr>\n",
       "      <th>QUEENS VILLAGE</th>\n",
       "      <td>593.920472</td>\n",
       "    </tr>\n",
       "    <tr>\n",
       "      <th>FLORAL PARK</th>\n",
       "      <td>609.812160</td>\n",
       "    </tr>\n",
       "    <tr>\n",
       "      <th>QUEENS</th>\n",
       "      <td>717.171171</td>\n",
       "    </tr>\n",
       "  </tbody>\n",
       "</table>\n",
       "</div>"
      ],
      "text/plain": [
       "                     Request_Closing_Time\n",
       "City                                     \n",
       "ARVERNE                        137.840605\n",
       "ROCKAWAY PARK                  139.602908\n",
       "LITTLE NECK                    155.031437\n",
       "OAKLAND GARDENS                156.240167\n",
       "BAYSIDE                        160.062978\n",
       "FAR ROCKAWAY                   161.193068\n",
       "NEW YORK                       175.343723\n",
       "FLUSHING                       177.446478\n",
       "FOREST HILLS                   184.097636\n",
       "WHITESTONE                     187.976467\n",
       "CORONA                         188.984584\n",
       "COLLEGE POINT                  190.393782\n",
       "JACKSON HEIGHTS                190.885368\n",
       "ELMHURST                       194.108392\n",
       "FRESH MEADOWS                  200.741045\n",
       "REGO PARK                      202.462138\n",
       "BREEZY POINT                   205.197849\n",
       "EAST ELMHURST                  206.801481\n",
       "CENTRAL PARK                   206.921364\n",
       "STATEN ISLAND                  228.038305\n",
       "BROOKLYN                       236.607935\n",
       "Howard Beach                   241.750000\n",
       "Astoria                        242.452302\n",
       "Long Island City               245.388922\n",
       "ASTORIA                        265.236501\n",
       "RIDGEWOOD                      268.285547\n",
       "SAINT ALBANS                   271.040767\n",
       "East Elmhurst                  273.630556\n",
       "Woodside                       281.455622\n",
       "KEW GARDENS                    283.319775\n",
       "JAMAICA                        305.346459\n",
       "SOUTH OZONE PARK               308.283046\n",
       "SOUTH RICHMOND HILL            318.020470\n",
       "WOODHAVEN                      321.714469\n",
       "RICHMOND HILL                  321.749064\n",
       "MIDDLE VILLAGE                 323.290492\n",
       "OZONE PARK                     328.309146\n",
       "MASPETH                        328.997706\n",
       "HOLLIS                         332.061427\n",
       "HOWARD BEACH                   346.959615\n",
       "BRONX                          353.116425\n",
       "LONG ISLAND CITY               367.326726\n",
       "SUNNYSIDE                      380.744297\n",
       "WOODSIDE                       389.758733\n",
       "NEW HYDE PARK                  423.396512\n",
       "GLEN OAKS                      501.653463\n",
       "SPRINGFIELD GARDENS            510.113239\n",
       "CAMBRIA HEIGHTS                542.883117\n",
       "ROSEDALE                       569.194745\n",
       "BELLEROSE                      576.173614\n",
       "QUEENS VILLAGE                 593.920472\n",
       "FLORAL PARK                    609.812160\n",
       "QUEENS                         717.171171"
      ]
     },
     "execution_count": 18,
     "metadata": {},
     "output_type": "execute_result"
    }
   ],
   "source": [
    "#Request Closing Time for all City sorted in ascending Order\n",
    "pd.DataFrame(df.groupby(\"City\")[\"Request_Closing_Time\"].mean()).sort_values(\"Request_Closing_Time\")"
   ]
  },
  {
   "cell_type": "markdown",
   "metadata": {
    "papermill": {
     "duration": 0.053107,
     "end_time": "2020-09-16T20:29:25.694096",
     "exception": false,
     "start_time": "2020-09-16T20:29:25.640989",
     "status": "completed"
    },
    "tags": []
   },
   "source": [
    "<h2 style=\"color:red;\">Handling Missing Values"
   ]
  },
  {
   "cell_type": "code",
   "execution_count": 19,
   "metadata": {
    "execution": {
     "iopub.execute_input": "2020-09-16T20:29:25.807565Z",
     "iopub.status.busy": "2020-09-16T20:29:25.806732Z",
     "iopub.status.idle": "2020-09-16T20:29:27.202520Z",
     "shell.execute_reply": "2020-09-16T20:29:27.201927Z"
    },
    "papermill": {
     "duration": 1.455055,
     "end_time": "2020-09-16T20:29:27.202655",
     "exception": false,
     "start_time": "2020-09-16T20:29:25.747600",
     "status": "completed"
    },
    "tags": []
   },
   "outputs": [
    {
     "data": {
      "text/html": [
       "<div>\n",
       "<style scoped>\n",
       "    .dataframe tbody tr th:only-of-type {\n",
       "        vertical-align: middle;\n",
       "    }\n",
       "\n",
       "    .dataframe tbody tr th {\n",
       "        vertical-align: top;\n",
       "    }\n",
       "\n",
       "    .dataframe thead th {\n",
       "        text-align: right;\n",
       "    }\n",
       "</style>\n",
       "<table border=\"1\" class=\"dataframe\">\n",
       "  <thead>\n",
       "    <tr style=\"text-align: right;\">\n",
       "      <th></th>\n",
       "      <th>0</th>\n",
       "    </tr>\n",
       "  </thead>\n",
       "  <tbody>\n",
       "    <tr>\n",
       "      <th>School or Citywide Complaint</th>\n",
       "      <td>100.000000</td>\n",
       "    </tr>\n",
       "    <tr>\n",
       "      <th>Garage Lot Name</th>\n",
       "      <td>100.000000</td>\n",
       "    </tr>\n",
       "    <tr>\n",
       "      <th>Vehicle Type</th>\n",
       "      <td>100.000000</td>\n",
       "    </tr>\n",
       "    <tr>\n",
       "      <th>Taxi Pick Up Location</th>\n",
       "      <td>100.000000</td>\n",
       "    </tr>\n",
       "    <tr>\n",
       "      <th>Taxi Company Borough</th>\n",
       "      <td>100.000000</td>\n",
       "    </tr>\n",
       "    <tr>\n",
       "      <th>Ferry Direction</th>\n",
       "      <td>99.999726</td>\n",
       "    </tr>\n",
       "    <tr>\n",
       "      <th>Ferry Terminal Name</th>\n",
       "      <td>99.999451</td>\n",
       "    </tr>\n",
       "    <tr>\n",
       "      <th>Road Ramp</th>\n",
       "      <td>99.928132</td>\n",
       "    </tr>\n",
       "    <tr>\n",
       "      <th>Bridge Highway Segment</th>\n",
       "      <td>99.928132</td>\n",
       "    </tr>\n",
       "    <tr>\n",
       "      <th>Bridge Highway Direction</th>\n",
       "      <td>99.918531</td>\n",
       "    </tr>\n",
       "    <tr>\n",
       "      <th>Bridge Highway Name</th>\n",
       "      <td>99.918531</td>\n",
       "    </tr>\n",
       "    <tr>\n",
       "      <th>Landmark</th>\n",
       "      <td>99.897136</td>\n",
       "    </tr>\n",
       "    <tr>\n",
       "      <th>Intersection Street 2</th>\n",
       "      <td>86.144317</td>\n",
       "    </tr>\n",
       "    <tr>\n",
       "      <th>Intersection Street 1</th>\n",
       "      <td>85.977540</td>\n",
       "    </tr>\n",
       "    <tr>\n",
       "      <th>Cross Street 2</th>\n",
       "      <td>15.856187</td>\n",
       "    </tr>\n",
       "    <tr>\n",
       "      <th>Cross Street 1</th>\n",
       "      <td>15.686941</td>\n",
       "    </tr>\n",
       "    <tr>\n",
       "      <th>Street Name</th>\n",
       "      <td>14.181283</td>\n",
       "    </tr>\n",
       "    <tr>\n",
       "      <th>Incident Address</th>\n",
       "      <td>14.181283</td>\n",
       "    </tr>\n",
       "    <tr>\n",
       "      <th>Descriptor</th>\n",
       "      <td>1.783255</td>\n",
       "    </tr>\n",
       "    <tr>\n",
       "      <th>Latitude</th>\n",
       "      <td>1.105448</td>\n",
       "    </tr>\n",
       "  </tbody>\n",
       "</table>\n",
       "</div>"
      ],
      "text/plain": [
       "                                       0\n",
       "School or Citywide Complaint  100.000000\n",
       "Garage Lot Name               100.000000\n",
       "Vehicle Type                  100.000000\n",
       "Taxi Pick Up Location         100.000000\n",
       "Taxi Company Borough          100.000000\n",
       "Ferry Direction                99.999726\n",
       "Ferry Terminal Name            99.999451\n",
       "Road Ramp                      99.928132\n",
       "Bridge Highway Segment         99.928132\n",
       "Bridge Highway Direction       99.918531\n",
       "Bridge Highway Name            99.918531\n",
       "Landmark                       99.897136\n",
       "Intersection Street 2          86.144317\n",
       "Intersection Street 1          85.977540\n",
       "Cross Street 2                 15.856187\n",
       "Cross Street 1                 15.686941\n",
       "Street Name                    14.181283\n",
       "Incident Address               14.181283\n",
       "Descriptor                      1.783255\n",
       "Latitude                        1.105448"
      ]
     },
     "execution_count": 19,
     "metadata": {},
     "output_type": "execute_result"
    }
   ],
   "source": [
    "#Percentage Of Missing Value\n",
    "pd.DataFrame((df.isnull().sum()/df.shape[0]*100)).sort_values(0,ascending=False)[:20]"
   ]
  },
  {
   "cell_type": "markdown",
   "metadata": {
    "papermill": {
     "duration": 0.054569,
     "end_time": "2020-09-16T20:29:27.312755",
     "exception": false,
     "start_time": "2020-09-16T20:29:27.258186",
     "status": "completed"
    },
    "tags": []
   },
   "source": [
    "<p style=\"color:green;\">We see that all the data related to school columns are empty which must be  because none of the request or complaint are from the school sector. Thus we can go on and remove that column."
   ]
  },
  {
   "cell_type": "code",
   "execution_count": 20,
   "metadata": {
    "execution": {
     "iopub.execute_input": "2020-09-16T20:29:27.428589Z",
     "iopub.status.busy": "2020-09-16T20:29:27.427785Z",
     "iopub.status.idle": "2020-09-16T20:29:29.001179Z",
     "shell.execute_reply": "2020-09-16T20:29:29.001821Z"
    },
    "papermill": {
     "duration": 1.634737,
     "end_time": "2020-09-16T20:29:29.001982",
     "exception": false,
     "start_time": "2020-09-16T20:29:27.367245",
     "status": "completed"
    },
    "tags": []
   },
   "outputs": [],
   "source": [
    "#Remove the column with very high percentage of missing value\n",
    "new_df=df.loc[:,(df.isnull().sum()/df.shape[0]*100)<=50]"
   ]
  },
  {
   "cell_type": "code",
   "execution_count": 21,
   "metadata": {
    "execution": {
     "iopub.execute_input": "2020-09-16T20:29:29.119062Z",
     "iopub.status.busy": "2020-09-16T20:29:29.118327Z",
     "iopub.status.idle": "2020-09-16T20:29:29.121687Z",
     "shell.execute_reply": "2020-09-16T20:29:29.122390Z"
    },
    "papermill": {
     "duration": 0.064981,
     "end_time": "2020-09-16T20:29:29.122577",
     "exception": false,
     "start_time": "2020-09-16T20:29:29.057596",
     "status": "completed"
    },
    "tags": []
   },
   "outputs": [
    {
     "name": "stdout",
     "output_type": "stream",
     "text": [
      "Old DataFrame Shape : (364558, 54)\n",
      "New DataFrame Shape :  (364558, 40)\n"
     ]
    }
   ],
   "source": [
    "print(\"Old DataFrame Shape :\",df.shape)\n",
    "print(\"New DataFrame Shape : \",new_df.shape)"
   ]
  },
  {
   "cell_type": "code",
   "execution_count": 22,
   "metadata": {
    "execution": {
     "iopub.execute_input": "2020-09-16T20:29:29.242465Z",
     "iopub.status.busy": "2020-09-16T20:29:29.241723Z",
     "iopub.status.idle": "2020-09-16T20:29:31.711209Z",
     "shell.execute_reply": "2020-09-16T20:29:31.709770Z"
    },
    "papermill": {
     "duration": 2.532449,
     "end_time": "2020-09-16T20:29:31.711384",
     "exception": false,
     "start_time": "2020-09-16T20:29:29.178935",
     "status": "completed"
    },
    "tags": []
   },
   "outputs": [
    {
     "name": "stdout",
     "output_type": "stream",
     "text": [
      "Agency           :  ['NYPD']\n",
      "Agency Name           :  ['New York City Police Department' 'NYPD' 'Internal Affairs Bureau']\n",
      "Facility Type           :  ['Precinct' nan]\n",
      "Park Facility Name           :  ['Unspecified' 'Alley Pond Park - Nature Center']\n",
      "School Name           :  ['Unspecified' 'Alley Pond Park - Nature Center']\n",
      "School Number           :  ['Unspecified' 'Q001']\n",
      "School Region           :  ['Unspecified' nan]\n",
      "School Code           :  ['Unspecified' nan]\n",
      "School Phone Number           :  ['Unspecified' '7182176034']\n",
      "School Address           :  ['Unspecified' 'Grand Central Parkway, near the soccer field']\n",
      "School City           :  ['Unspecified' 'QUEENS']\n",
      "School State           :  ['Unspecified' 'NY']\n",
      "School Zip           :  ['Unspecified' nan]\n",
      "School Not Found           :  ['N']\n"
     ]
    }
   ],
   "source": [
    "rem=[]\n",
    "for x in new_df.columns.tolist():\n",
    "    if new_df[x].nunique()<=3:\n",
    "        print(x+ \" \"*10+\" : \",new_df[x].unique())\n",
    "        rem.append(x)"
   ]
  },
  {
   "cell_type": "markdown",
   "metadata": {
    "papermill": {
     "duration": 0.05805,
     "end_time": "2020-09-16T20:29:31.832031",
     "exception": false,
     "start_time": "2020-09-16T20:29:31.773981",
     "status": "completed"
    },
    "tags": []
   },
   "source": [
    "<p style=\"color:green;\">We see that all the data above have not much details, are Unspecified. So we can remove those columns to ease our analysis"
   ]
  },
  {
   "cell_type": "code",
   "execution_count": 23,
   "metadata": {
    "execution": {
     "iopub.execute_input": "2020-09-16T20:29:32.213387Z",
     "iopub.status.busy": "2020-09-16T20:29:32.211996Z",
     "iopub.status.idle": "2020-09-16T20:29:32.216893Z",
     "shell.execute_reply": "2020-09-16T20:29:32.215856Z"
    },
    "papermill": {
     "duration": 0.326994,
     "end_time": "2020-09-16T20:29:32.217066",
     "exception": false,
     "start_time": "2020-09-16T20:29:31.890072",
     "status": "completed"
    },
    "tags": []
   },
   "outputs": [],
   "source": [
    "new_df.drop(rem,axis=1,inplace=True)"
   ]
  },
  {
   "cell_type": "code",
   "execution_count": 24,
   "metadata": {
    "execution": {
     "iopub.execute_input": "2020-09-16T20:29:32.356244Z",
     "iopub.status.busy": "2020-09-16T20:29:32.355103Z",
     "iopub.status.idle": "2020-09-16T20:29:32.359744Z",
     "shell.execute_reply": "2020-09-16T20:29:32.359020Z"
    },
    "papermill": {
     "duration": 0.070431,
     "end_time": "2020-09-16T20:29:32.359871",
     "exception": false,
     "start_time": "2020-09-16T20:29:32.289440",
     "status": "completed"
    },
    "tags": []
   },
   "outputs": [
    {
     "data": {
      "text/plain": [
       "(364558, 26)"
      ]
     },
     "execution_count": 24,
     "metadata": {},
     "output_type": "execute_result"
    }
   ],
   "source": [
    "new_df.shape"
   ]
  },
  {
   "cell_type": "code",
   "execution_count": 25,
   "metadata": {
    "execution": {
     "iopub.execute_input": "2020-09-16T20:29:32.506916Z",
     "iopub.status.busy": "2020-09-16T20:29:32.505272Z",
     "iopub.status.idle": "2020-09-16T20:29:32.619210Z",
     "shell.execute_reply": "2020-09-16T20:29:32.621339Z"
    },
    "papermill": {
     "duration": 0.197111,
     "end_time": "2020-09-16T20:29:32.621710",
     "exception": false,
     "start_time": "2020-09-16T20:29:32.424599",
     "status": "completed"
    },
    "tags": []
   },
   "outputs": [],
   "source": [
    "#Remove columns that are not needed for our analysis\n",
    "rem1=[\"Unique Key\",\"Incident Address\",\"Descriptor\",\"Street Name\",\"Cross Street 1\",\"Cross Street 2\",\"Due Date\",\"Resolution Description\",\"Resolution Action Updated Date\",\"Community Board\",\"X Coordinate (State Plane)\",\"Y Coordinate (State Plane)\",\"Park Borough\",\"Latitude\",\"Longitude\",\"Location\"]\n",
    "\n",
    "new_df.drop(rem1,axis=1,inplace=True)"
   ]
  },
  {
   "cell_type": "code",
   "execution_count": 26,
   "metadata": {
    "execution": {
     "iopub.execute_input": "2020-09-16T20:29:32.817021Z",
     "iopub.status.busy": "2020-09-16T20:29:32.815832Z",
     "iopub.status.idle": "2020-09-16T20:29:32.821617Z",
     "shell.execute_reply": "2020-09-16T20:29:32.820805Z"
    },
    "papermill": {
     "duration": 0.086882,
     "end_time": "2020-09-16T20:29:32.821768",
     "exception": false,
     "start_time": "2020-09-16T20:29:32.734886",
     "status": "completed"
    },
    "tags": []
   },
   "outputs": [
    {
     "data": {
      "text/html": [
       "<div>\n",
       "<style scoped>\n",
       "    .dataframe tbody tr th:only-of-type {\n",
       "        vertical-align: middle;\n",
       "    }\n",
       "\n",
       "    .dataframe tbody tr th {\n",
       "        vertical-align: top;\n",
       "    }\n",
       "\n",
       "    .dataframe thead th {\n",
       "        text-align: right;\n",
       "    }\n",
       "</style>\n",
       "<table border=\"1\" class=\"dataframe\">\n",
       "  <thead>\n",
       "    <tr style=\"text-align: right;\">\n",
       "      <th></th>\n",
       "      <th>Created Date</th>\n",
       "      <th>Closed Date</th>\n",
       "      <th>Complaint Type</th>\n",
       "      <th>Location Type</th>\n",
       "      <th>Incident Zip</th>\n",
       "      <th>Address Type</th>\n",
       "      <th>City</th>\n",
       "      <th>Status</th>\n",
       "      <th>Borough</th>\n",
       "      <th>Request_Closing_Time</th>\n",
       "    </tr>\n",
       "  </thead>\n",
       "  <tbody>\n",
       "    <tr>\n",
       "      <th>0</th>\n",
       "      <td>2015-12-31 23:59:45</td>\n",
       "      <td>2016-01-01 00:55:15</td>\n",
       "      <td>Noise - Street/Sidewalk</td>\n",
       "      <td>Street/Sidewalk</td>\n",
       "      <td>10034.0</td>\n",
       "      <td>ADDRESS</td>\n",
       "      <td>NEW YORK</td>\n",
       "      <td>Closed</td>\n",
       "      <td>MANHATTAN</td>\n",
       "      <td>55.500000</td>\n",
       "    </tr>\n",
       "    <tr>\n",
       "      <th>1</th>\n",
       "      <td>2015-12-31 23:59:44</td>\n",
       "      <td>2016-01-01 01:26:57</td>\n",
       "      <td>Blocked Driveway</td>\n",
       "      <td>Street/Sidewalk</td>\n",
       "      <td>11105.0</td>\n",
       "      <td>ADDRESS</td>\n",
       "      <td>ASTORIA</td>\n",
       "      <td>Closed</td>\n",
       "      <td>QUEENS</td>\n",
       "      <td>87.216667</td>\n",
       "    </tr>\n",
       "    <tr>\n",
       "      <th>2</th>\n",
       "      <td>2015-12-31 23:59:29</td>\n",
       "      <td>2016-01-01 04:51:03</td>\n",
       "      <td>Blocked Driveway</td>\n",
       "      <td>Street/Sidewalk</td>\n",
       "      <td>10458.0</td>\n",
       "      <td>ADDRESS</td>\n",
       "      <td>BRONX</td>\n",
       "      <td>Closed</td>\n",
       "      <td>BRONX</td>\n",
       "      <td>291.566667</td>\n",
       "    </tr>\n",
       "    <tr>\n",
       "      <th>3</th>\n",
       "      <td>2015-12-31 23:57:46</td>\n",
       "      <td>2016-01-01 07:43:13</td>\n",
       "      <td>Illegal Parking</td>\n",
       "      <td>Street/Sidewalk</td>\n",
       "      <td>10461.0</td>\n",
       "      <td>ADDRESS</td>\n",
       "      <td>BRONX</td>\n",
       "      <td>Closed</td>\n",
       "      <td>BRONX</td>\n",
       "      <td>465.450000</td>\n",
       "    </tr>\n",
       "    <tr>\n",
       "      <th>4</th>\n",
       "      <td>2015-12-31 23:56:58</td>\n",
       "      <td>2016-01-01 03:24:42</td>\n",
       "      <td>Illegal Parking</td>\n",
       "      <td>Street/Sidewalk</td>\n",
       "      <td>11373.0</td>\n",
       "      <td>ADDRESS</td>\n",
       "      <td>ELMHURST</td>\n",
       "      <td>Closed</td>\n",
       "      <td>QUEENS</td>\n",
       "      <td>207.733333</td>\n",
       "    </tr>\n",
       "  </tbody>\n",
       "</table>\n",
       "</div>"
      ],
      "text/plain": [
       "         Created Date         Closed Date           Complaint Type  \\\n",
       "0 2015-12-31 23:59:45 2016-01-01 00:55:15  Noise - Street/Sidewalk   \n",
       "1 2015-12-31 23:59:44 2016-01-01 01:26:57         Blocked Driveway   \n",
       "2 2015-12-31 23:59:29 2016-01-01 04:51:03         Blocked Driveway   \n",
       "3 2015-12-31 23:57:46 2016-01-01 07:43:13          Illegal Parking   \n",
       "4 2015-12-31 23:56:58 2016-01-01 03:24:42          Illegal Parking   \n",
       "\n",
       "     Location Type  Incident Zip Address Type      City  Status    Borough  \\\n",
       "0  Street/Sidewalk       10034.0      ADDRESS  NEW YORK  Closed  MANHATTAN   \n",
       "1  Street/Sidewalk       11105.0      ADDRESS   ASTORIA  Closed     QUEENS   \n",
       "2  Street/Sidewalk       10458.0      ADDRESS     BRONX  Closed      BRONX   \n",
       "3  Street/Sidewalk       10461.0      ADDRESS     BRONX  Closed      BRONX   \n",
       "4  Street/Sidewalk       11373.0      ADDRESS  ELMHURST  Closed     QUEENS   \n",
       "\n",
       "   Request_Closing_Time  \n",
       "0             55.500000  \n",
       "1             87.216667  \n",
       "2            291.566667  \n",
       "3            465.450000  \n",
       "4            207.733333  "
      ]
     },
     "execution_count": 26,
     "metadata": {},
     "output_type": "execute_result"
    }
   ],
   "source": [
    "new_df.head()"
   ]
  },
  {
   "cell_type": "markdown",
   "metadata": {
    "papermill": {
     "duration": 0.059781,
     "end_time": "2020-09-16T20:29:32.944585",
     "exception": false,
     "start_time": "2020-09-16T20:29:32.884804",
     "status": "completed"
    },
    "tags": []
   },
   "source": [
    "<h2 style=\"color:red;\">Hypothesis Testing</h2>"
   ]
  },
  {
   "cell_type": "code",
   "execution_count": 27,
   "metadata": {
    "execution": {
     "iopub.execute_input": "2020-09-16T20:29:33.095072Z",
     "iopub.status.busy": "2020-09-16T20:29:33.094059Z",
     "iopub.status.idle": "2020-09-16T20:29:40.101207Z",
     "shell.execute_reply": "2020-09-16T20:29:40.101808Z"
    },
    "papermill": {
     "duration": 7.097321,
     "end_time": "2020-09-16T20:29:40.101963",
     "exception": false,
     "start_time": "2020-09-16T20:29:33.004642",
     "status": "completed"
    },
    "tags": []
   },
   "outputs": [
    {
     "data": {
      "text/plain": [
       "(0.0, 2000.0)"
      ]
     },
     "execution_count": 27,
     "metadata": {},
     "output_type": "execute_result"
    },
    {
     "data": {
      "image/png": "[encoded data removed]",
      "text/plain": [
       "<Figure size 1080x576 with 1 Axes>"
      ]
     },
     "metadata": {},
     "output_type": "display_data"
    }
   ],
   "source": [
    "g=sns.catplot(x=\"Complaint Type\",y=\"Request_Closing_Time\",kind=\"box\",data=new_df)\n",
    "g.fig.set_figheight(8)\n",
    "g.fig.set_figwidth(15)\n",
    "plt.xticks(rotation=90)\n",
    "plt.ylim((0,2000))"
   ]
  },
  {
   "cell_type": "markdown",
   "metadata": {
    "papermill": {
     "duration": 0.062014,
     "end_time": "2020-09-16T20:29:40.227552",
     "exception": false,
     "start_time": "2020-09-16T20:29:40.165538",
     "status": "completed"
    },
    "tags": []
   },
   "source": [
    "$H_0 : \\text{ there is no significant different in mean of Request_Closing_Time for different Complaint}\\\\\n",
    "H_1 : \\text{there is signficant different in mean of Request_Closing_Time for different Complaint}$"
   ]
  },
  {
   "cell_type": "code",
   "execution_count": 28,
   "metadata": {
    "execution": {
     "iopub.execute_input": "2020-09-16T20:29:40.360547Z",
     "iopub.status.busy": "2020-09-16T20:29:40.359813Z",
     "iopub.status.idle": "2020-09-16T20:29:40.482829Z",
     "shell.execute_reply": "2020-09-16T20:29:40.482050Z"
    },
    "papermill": {
     "duration": 0.192701,
     "end_time": "2020-09-16T20:29:40.482950",
     "exception": false,
     "start_time": "2020-09-16T20:29:40.290249",
     "status": "completed"
    },
    "tags": []
   },
   "outputs": [
    {
     "data": {
      "text/html": [
       "<div>\n",
       "<style scoped>\n",
       "    .dataframe tbody tr th:only-of-type {\n",
       "        vertical-align: middle;\n",
       "    }\n",
       "\n",
       "    .dataframe tbody tr th {\n",
       "        vertical-align: top;\n",
       "    }\n",
       "\n",
       "    .dataframe thead th {\n",
       "        text-align: right;\n",
       "    }\n",
       "</style>\n",
       "<table border=\"1\" class=\"dataframe\">\n",
       "  <thead>\n",
       "    <tr style=\"text-align: right;\">\n",
       "      <th></th>\n",
       "      <th>Request_Closing_Time</th>\n",
       "      <th>Complaint</th>\n",
       "    </tr>\n",
       "  </thead>\n",
       "  <tbody>\n",
       "    <tr>\n",
       "      <th>0</th>\n",
       "      <td>55.500000</td>\n",
       "      <td>Noise - Street/Sidewalk</td>\n",
       "    </tr>\n",
       "    <tr>\n",
       "      <th>1</th>\n",
       "      <td>87.216667</td>\n",
       "      <td>Blocked Driveway</td>\n",
       "    </tr>\n",
       "    <tr>\n",
       "      <th>2</th>\n",
       "      <td>291.566667</td>\n",
       "      <td>Blocked Driveway</td>\n",
       "    </tr>\n",
       "    <tr>\n",
       "      <th>3</th>\n",
       "      <td>465.450000</td>\n",
       "      <td>Illegal Parking</td>\n",
       "    </tr>\n",
       "    <tr>\n",
       "      <th>4</th>\n",
       "      <td>207.733333</td>\n",
       "      <td>Illegal Parking</td>\n",
       "    </tr>\n",
       "  </tbody>\n",
       "</table>\n",
       "</div>"
      ],
      "text/plain": [
       "   Request_Closing_Time                Complaint\n",
       "0             55.500000  Noise - Street/Sidewalk\n",
       "1             87.216667         Blocked Driveway\n",
       "2            291.566667         Blocked Driveway\n",
       "3            465.450000          Illegal Parking\n",
       "4            207.733333          Illegal Parking"
      ]
     },
     "execution_count": 28,
     "metadata": {},
     "output_type": "execute_result"
    }
   ],
   "source": [
    "anova_df=pd.DataFrame()\n",
    "anova_df[\"Request_Closing_Time\"]=new_df[\"Request_Closing_Time\"]\n",
    "anova_df[\"Complaint\"]=new_df[\"Complaint Type\"]\n",
    "\n",
    "anova_df.dropna(inplace=True)\n",
    "anova_df.head()"
   ]
  },
  {
   "cell_type": "code",
   "execution_count": 29,
   "metadata": {
    "execution": {
     "iopub.execute_input": "2020-09-16T20:29:40.626056Z",
     "iopub.status.busy": "2020-09-16T20:29:40.620865Z",
     "iopub.status.idle": "2020-09-16T20:29:43.954567Z",
     "shell.execute_reply": "2020-09-16T20:29:43.953747Z"
    },
    "papermill": {
     "duration": 3.408549,
     "end_time": "2020-09-16T20:29:43.954701",
     "exception": false,
     "start_time": "2020-09-16T20:29:40.546152",
     "status": "completed"
    },
    "tags": []
   },
   "outputs": [
    {
     "data": {
      "text/html": [
       "<div>\n",
       "<style scoped>\n",
       "    .dataframe tbody tr th:only-of-type {\n",
       "        vertical-align: middle;\n",
       "    }\n",
       "\n",
       "    .dataframe tbody tr th {\n",
       "        vertical-align: top;\n",
       "    }\n",
       "\n",
       "    .dataframe thead th {\n",
       "        text-align: right;\n",
       "    }\n",
       "</style>\n",
       "<table border=\"1\" class=\"dataframe\">\n",
       "  <thead>\n",
       "    <tr style=\"text-align: right;\">\n",
       "      <th></th>\n",
       "      <th>df</th>\n",
       "      <th>sum_sq</th>\n",
       "      <th>mean_sq</th>\n",
       "      <th>F</th>\n",
       "      <th>PR(&gt;F)</th>\n",
       "    </tr>\n",
       "  </thead>\n",
       "  <tbody>\n",
       "    <tr>\n",
       "      <th>Complaint</th>\n",
       "      <td>22.0</td>\n",
       "      <td>1.487316e+09</td>\n",
       "      <td>6.760526e+07</td>\n",
       "      <td>565.26157</td>\n",
       "      <td>0.0</td>\n",
       "    </tr>\n",
       "    <tr>\n",
       "      <th>Residual</th>\n",
       "      <td>362154.0</td>\n",
       "      <td>4.331361e+10</td>\n",
       "      <td>1.196000e+05</td>\n",
       "      <td>NaN</td>\n",
       "      <td>NaN</td>\n",
       "    </tr>\n",
       "  </tbody>\n",
       "</table>\n",
       "</div>"
      ],
      "text/plain": [
       "                 df        sum_sq       mean_sq          F  PR(>F)\n",
       "Complaint      22.0  1.487316e+09  6.760526e+07  565.26157     0.0\n",
       "Residual   362154.0  4.331361e+10  1.196000e+05        NaN     NaN"
      ]
     },
     "execution_count": 29,
     "metadata": {},
     "output_type": "execute_result"
    }
   ],
   "source": [
    "lm=ols(\"Request_Closing_Time~Complaint\",data=anova_df).fit()\n",
    "table=sm.stats.anova_lm(lm)\n",
    "table"
   ]
  },
  {
   "cell_type": "markdown",
   "metadata": {
    "papermill": {
     "duration": 0.072214,
     "end_time": "2020-09-16T20:29:44.099864",
     "exception": false,
     "start_time": "2020-09-16T20:29:44.027650",
     "status": "completed"
    },
    "tags": []
   },
   "source": [
    "<p style=\"color:green;\">Since p value for the Complaint is less that 0.01 thus we accept alternate hypothesis i.e there is significant difference in the mean response time w.r.t different type of complaint."
   ]
  },
  {
   "cell_type": "markdown",
   "metadata": {
    "papermill": {
     "duration": 0.071532,
     "end_time": "2020-09-16T20:29:44.244960",
     "exception": false,
     "start_time": "2020-09-16T20:29:44.173428",
     "status": "completed"
    },
    "tags": []
   },
   "source": [
    "$H_0 : \\text{Complaint  Type and Location Type are independent}\\\\\n",
    "H_1 : \\text{Complaint Type and Location Type  are  related}$"
   ]
  },
  {
   "cell_type": "code",
   "execution_count": 30,
   "metadata": {
    "execution": {
     "iopub.execute_input": "2020-09-16T20:29:44.383542Z",
     "iopub.status.busy": "2020-09-16T20:29:44.382592Z",
     "iopub.status.idle": "2020-09-16T20:29:44.555716Z",
     "shell.execute_reply": "2020-09-16T20:29:44.555015Z"
    },
    "papermill": {
     "duration": 0.243528,
     "end_time": "2020-09-16T20:29:44.555848",
     "exception": false,
     "start_time": "2020-09-16T20:29:44.312320",
     "status": "completed"
    },
    "tags": []
   },
   "outputs": [],
   "source": [
    "chi_sq=pd.DataFrame()\n",
    "chi_sq[\"Location Type\"]=new_df[\"Location Type\"]\n",
    "chi_sq[\"Complaint Type\"]=new_df[\"Complaint Type\"]\n",
    "\n",
    "chi_sq.dropna(inplace=True)"
   ]
  },
  {
   "cell_type": "code",
   "execution_count": 31,
   "metadata": {
    "execution": {
     "iopub.execute_input": "2020-09-16T20:29:44.691623Z",
     "iopub.status.busy": "2020-09-16T20:29:44.690912Z",
     "iopub.status.idle": "2020-09-16T20:29:44.834067Z",
     "shell.execute_reply": "2020-09-16T20:29:44.833266Z"
    },
    "papermill": {
     "duration": 0.21347,
     "end_time": "2020-09-16T20:29:44.834189",
     "exception": false,
     "start_time": "2020-09-16T20:29:44.620719",
     "status": "completed"
    },
    "tags": []
   },
   "outputs": [],
   "source": [
    "data_crosstab = pd.crosstab( chi_sq[\"Location Type\"],chi_sq[\"Complaint Type\"])"
   ]
  },
  {
   "cell_type": "code",
   "execution_count": 32,
   "metadata": {
    "execution": {
     "iopub.execute_input": "2020-09-16T20:29:44.970910Z",
     "iopub.status.busy": "2020-09-16T20:29:44.969831Z",
     "iopub.status.idle": "2020-09-16T20:29:44.973430Z",
     "shell.execute_reply": "2020-09-16T20:29:44.974184Z"
    },
    "papermill": {
     "duration": 0.07547,
     "end_time": "2020-09-16T20:29:44.974342",
     "exception": false,
     "start_time": "2020-09-16T20:29:44.898872",
     "status": "completed"
    },
    "tags": []
   },
   "outputs": [
    {
     "name": "stdout",
     "output_type": "stream",
     "text": [
      "Dependent (reject H0)\n"
     ]
    }
   ],
   "source": [
    "stat, p, dof, expected = chi2_contingency(data_crosstab) \n",
    "\n",
    "alpha = 0.05\n",
    "if p <= alpha: \n",
    "    print('Dependent (reject H0)') \n",
    "else: \n",
    "    print('Independent (H0 holds true)') "
   ]
  },
  {
   "cell_type": "markdown",
   "metadata": {
    "papermill": {
     "duration": 0.064785,
     "end_time": "2020-09-16T20:29:45.105277",
     "exception": false,
     "start_time": "2020-09-16T20:29:45.040492",
     "status": "completed"
    },
    "tags": []
   },
   "source": [
    "<p style=\"color:green;\">Since p value for the chi square test is less than 0.05(LOS) we can conclude that Complaint Type is dependent on Location Type i.e specific type of complaint is raised from specific places,"
   ]
  },
  {
   "cell_type": "markdown",
   "metadata": {
    "papermill": {
     "duration": 0.067254,
     "end_time": "2020-09-16T20:29:45.239357",
     "exception": false,
     "start_time": "2020-09-16T20:29:45.172103",
     "status": "completed"
    },
    "tags": []
   },
   "source": [
    "<h1 style=\"color:tomato;\"><center>Conclusions</h1>\n",
    "<ul style=\"color:blue;\">\n",
    "    <li>Maximum Complaints are raised in road and parking (vehicle) related sectors</li>\n",
    "    <li>On an average complains are closed in an span of 150 to 300 hours</li>\n",
    "    <li>Transport and Road related issues are taking more time to get resolved as number of these cases are quite high.</li>\n",
    "    <li>Number of cases from Borough goes as follows BROOKLYN > QUEENS > MANHATTAN > BRONX > STATEN ISLAND</li>\n",
    "    <li>Complaint Type are Depentent on Location Type.</li>\n",
    "    <li>Time taken for solving different complaint type are different</li>\n",
    "</li>"
   ]
  }
 ],
 "metadata": {
  "kernelspec": {
   "display_name": "Python 3 (ipykernel)",
   "language": "python",
   "name": "python3"
  },
  "language_info": {
   "codemirror_mode": {
    "name": "ipython",
    "version": 3
   },
   "file_extension": ".py",
   "mimetype": "text/x-python",
   "name": "python",
   "nbconvert_exporter": "python",
   "pygments_lexer": "ipython3",
   "version": "3.9.12"
  },
  "papermill": {
   "duration": 169.444972,
   "end_time": "2020-09-16T20:29:45.414313",
   "environment_variables": {},
   "exception": null,
   "input_path": "__notebook__.ipynb",
   "output_path": "__notebook__.ipynb",
   "parameters": {},
   "start_time": "2020-09-16T20:26:55.969341",
   "version": "2.1.0"
  }
 },
 "nbformat": 4,
 "nbformat_minor": 4
}
